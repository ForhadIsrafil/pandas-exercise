{
 "cells": [
  {
   "cell_type": "code",
   "execution_count": 34,
   "metadata": {},
   "outputs": [],
   "source": [
    "import pandas as pd\n",
    "import numpy as np\n",
    "import os\n",
    "import xlsxwriter\n",
    "from openpyxl import load_workbook"
   ]
  },
  {
   "cell_type": "code",
   "execution_count": 88,
   "metadata": {},
   "outputs": [
    {
     "data": {
      "text/plain": [
       "index 1    a\n",
       "index 2    b\n",
       "index 3    c\n",
       "Name: Alphabet, dtype: object"
      ]
     },
     "execution_count": 88,
     "metadata": {},
     "output_type": "execute_result"
    }
   ],
   "source": [
    "data = [\"a\",\"b\",\"c\",\"d\",\"e\",\"f\"]\n",
    "# df = pd.DataFrame(data,columns=[\"Alphabet\"]) # single column dataframe\n",
    "df = pd.DataFrame(data,columns=[\"Alphabet\"],index=[\"index 1\",\"index 2\",\"index 3\",\"index 4\",\"index 5\", \"index 5\"]) # single column dataframe\n",
    "df[\"Alphabet\"][0:3].to_excel(\"export_dataframe.xlsx\", index=True, header=True)\n",
    "df[\"Alphabet\"][0:3] # slice with column\n",
    "df[\"Alphabet\"][0:3]"
   ]
  },
  {
   "cell_type": "code",
   "execution_count": null,
   "metadata": {},
   "outputs": [],
   "source": []
  }
 ],
 "metadata": {
  "kernelspec": {
   "display_name": "Python 3",
   "language": "python",
   "name": "python3"
  },
  "language_info": {
   "codemirror_mode": {
    "name": "ipython",
    "version": 3
   },
   "file_extension": ".py",
   "mimetype": "text/x-python",
   "name": "python",
   "nbconvert_exporter": "python",
   "pygments_lexer": "ipython3",
   "version": "3.8.3"
  }
 },
 "nbformat": 4,
 "nbformat_minor": 4
}
